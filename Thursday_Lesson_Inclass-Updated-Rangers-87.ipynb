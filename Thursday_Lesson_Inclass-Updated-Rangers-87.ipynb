{
 "cells": [
  {
   "cell_type": "markdown",
   "metadata": {},
   "source": [
    "# User-Defined Functions & Scoping"
   ]
  },
  {
   "cell_type": "markdown",
   "metadata": {},
   "source": [
    "## Tasks Today:\n",
    "\n",
    "\n",
    "1) Functions <br>\n",
    " &nbsp;&nbsp;&nbsp;&nbsp; a) User-Defined vs. Built-In Functions <br>\n",
    " &nbsp;&nbsp;&nbsp;&nbsp; b) Accepting Parameters <br>\n",
    " &nbsp;&nbsp;&nbsp;&nbsp; c) Default Parameters <br>\n",
    " &nbsp;&nbsp;&nbsp;&nbsp; d) Making an Argument Optional <br>\n",
    " &nbsp;&nbsp;&nbsp;&nbsp; e) Keyword Arguments <br>\n",
    " &nbsp;&nbsp;&nbsp;&nbsp; f) Returning Values <br>\n",
    " &nbsp;&nbsp;&nbsp;&nbsp; g) *args <br>\n",
    " &nbsp;&nbsp;&nbsp;&nbsp; h) Docstring <br>\n",
    " &nbsp;&nbsp;&nbsp;&nbsp; i) Using a User Function in a Loop <br>\n",
    "2) Scope\n",
    "3) Creating more User-Defined functions \n",
    "4) decorators"
   ]
  },
  {
   "cell_type": "markdown",
   "metadata": {},
   "source": [
    "\n",
    "## Functions"
   ]
  },
  {
   "cell_type": "markdown",
   "metadata": {},
   "source": [
    "##### User-Defined vs. Built-In Functions"
   ]
  },
  {
   "cell_type": "code",
   "execution_count": 9,
   "metadata": {},
   "outputs": [
    {
     "name": "stdout",
     "output_type": "stream",
     "text": [
      "hello\n",
      "<function say_hello at 0x000002209602B820>\n",
      "Hello world\n"
     ]
    }
   ],
   "source": [
    "# Built-in function\n",
    "print(\"hello\")\n",
    "\n",
    "# user defined funtion\n",
    "def say_hello():\n",
    "    return 'Hello world'\n",
    "# show the function in memory\n",
    "print(say_hello)\n",
    "\n",
    "# calling a function\n",
    "print(say_hello())\n",
    "\n"
   ]
  },
  {
   "cell_type": "markdown",
   "metadata": {},
   "source": [
    "##### Accepting Parameters"
   ]
  },
  {
   "cell_type": "code",
   "execution_count": 10,
   "metadata": {
    "scrolled": true
   },
   "outputs": [
    {
     "name": "stdout",
     "output_type": "stream",
     "text": [
      "hello my full name is josh bond.\n"
     ]
    }
   ],
   "source": [
    "# order matters\n",
    "# a varialbe (parameter) can be any type of object\n",
    "\n",
    "first = 'josh'\n",
    "last = 'bond'\n",
    "\n",
    "def print_full_name(first_name, last_name):\n",
    "    return f'hello my full name is {first_name} {last_name}.'\n",
    "\n",
    "print(print_full_name(first,last))"
   ]
  },
  {
   "cell_type": "markdown",
   "metadata": {},
   "source": [
    "##### Default Parameters"
   ]
  },
  {
   "cell_type": "code",
   "execution_count": 11,
   "metadata": {},
   "outputs": [
    {
     "name": "stdout",
     "output_type": "stream",
     "text": [
      "the name is bond.....james bond.\n",
      "the name is brown.....james brown.\n"
     ]
    }
   ],
   "source": [
    "# default parameteres must come after non-default parameters at all times\n",
    "def agent_name(first_name, last_name = 'bond'):\n",
    "    return f'the name is {last_name}.....{first_name} {last_name}.'\n",
    "    \n",
    "print(agent_name(\"james\"))\n",
    "print(agent_name(\"james\",\"brown\"))"
   ]
  },
  {
   "cell_type": "code",
   "execution_count": 12,
   "metadata": {},
   "outputs": [
    {
     "name": "stdout",
     "output_type": "stream",
     "text": [
      "your brithday is the 24th day of March and you were born in 1960!\n"
     ]
    }
   ],
   "source": [
    "def march_bday(day,year, month = 'March'):\n",
    "    return f'your brithday is the {day}th day of {month} and you were born in {year}!'\n",
    "\n",
    "print(march_bday(24,1960))"
   ]
  },
  {
   "cell_type": "markdown",
   "metadata": {},
   "source": [
    "##### Making an Argument Optional"
   ]
  },
  {
   "cell_type": "code",
   "execution_count": 15,
   "metadata": {},
   "outputs": [
    {
     "name": "stdout",
     "output_type": "stream",
     "text": [
      "Hello Mr.  ed\n",
      "Hello sea biscuit ed\n"
     ]
    }
   ],
   "source": [
    "def horse_name(first, middle='',last='ed'):\n",
    "    return f'Hello {first} {middle} {last}'\n",
    "\n",
    "print(horse_name('Mr.'))\n",
    "print(horse_name('sea','biscuit'))"
   ]
  },
  {
   "cell_type": "markdown",
   "metadata": {},
   "source": [
    "##### Keyword Arguments"
   ]
  },
  {
   "cell_type": "code",
   "execution_count": 16,
   "metadata": {},
   "outputs": [
    {
     "name": "stdout",
     "output_type": "stream",
     "text": [
      "bruce's power is money\n"
     ]
    }
   ],
   "source": [
    "# you can access an argument by it's keyword out of the original order\n",
    "def hero(name, power ='flying'):\n",
    "    return f\"{name}'s power is {power}\"\n",
    "print(hero(power = 'money' ,name= \"bruce\"))"
   ]
  },
  {
   "cell_type": "markdown",
   "metadata": {},
   "source": [
    "####creat a funtion that accepts positional, default, and optional arguemtns"
   ]
  },
  {
   "cell_type": "code",
   "execution_count": 18,
   "metadata": {},
   "outputs": [
    {
     "name": "stdout",
     "output_type": "stream",
     "text": [
      "I want an italian with bologna and the works\n",
      "I want an wonder bread with PB&J and the crust cut off\n"
     ]
    }
   ],
   "source": [
    "def sandwich(bread, meat = \"bologna\", greens ='the works'):\n",
    "    return f'I want an {bread} with {meat} and {greens}'\n",
    "\n",
    "print(sandwich(bread= 'italian',))\n",
    "print(sandwich(bread=\"wonder bread\", meat=\"PB&J\", greens=\"the crust cut off\"))\n"
   ]
  },
  {
   "cell_type": "markdown",
   "metadata": {},
   "source": [
    "# Creating a start, stop, step function"
   ]
  },
  {
   "cell_type": "code",
   "execution_count": 19,
   "metadata": {},
   "outputs": [
    {
     "name": "stdout",
     "output_type": "stream",
     "text": [
      "2\n",
      "5\n",
      "8\n",
      "11\n"
     ]
    }
   ],
   "source": [
    "def my_range(stop, start = 0, step = 1):\n",
    "    for i in range(start,stop,step):\n",
    "        print(i)\n",
    "my_range(13,2,3)"
   ]
  },
  {
   "cell_type": "markdown",
   "metadata": {},
   "source": [
    "##### Returning Values"
   ]
  },
  {
   "cell_type": "code",
   "execution_count": 20,
   "metadata": {},
   "outputs": [
    {
     "data": {
      "text/plain": [
       "100"
      ]
     },
     "execution_count": 20,
     "metadata": {},
     "output_type": "execute_result"
    }
   ],
   "source": [
    "def add_nums(num1, num2):\n",
    "    return num1 + num2\n",
    "add_nums(56,44)"
   ]
  },
  {
   "cell_type": "markdown",
   "metadata": {},
   "source": [
    "##### *args / **kwargs (keyword arguments)"
   ]
  },
  {
   "cell_type": "code",
   "execution_count": 21,
   "metadata": {},
   "outputs": [
    {
     "name": "stdout",
     "output_type": "stream",
     "text": [
      "1\n",
      "(10, 'megazord')\n",
      "{'trkies': ['Warf', 'data'], 'subject': 'Python'}\n"
     ]
    }
   ],
   "source": [
    "def pirates(num1,*args, **kwargs):\n",
    "    print(num1)\n",
    "    print(args)\n",
    "    print(kwargs)\n",
    "pirates(1, 10,\"megazord\", trkies = ['Warf', 'data'], subject = 'Python')"
   ]
  },
  {
   "cell_type": "markdown",
   "metadata": {},
   "source": [
    "# write a function that accepts args and kwargs and print out each arg and kwarg on it's own line."
   ]
  },
  {
   "cell_type": "code",
   "execution_count": 23,
   "metadata": {},
   "outputs": [
    {
     "name": "stdout",
     "output_type": "stream",
     "text": [
      "Pallet\n",
      "('Viridian', 'Pewter', 'Cerulean', 'Lavender')\n",
      "{'ash': ['Boulder', 'Cascade'], 'brock': 'Pewter'}\n"
     ]
    }
   ],
   "source": [
    "def pokemon(starter_town, *gym_cities, **trainers):\n",
    "    print(starter_town)\n",
    "    print(gym_cities)\n",
    "    print(trainers)\n",
    "\n",
    "pokemon(\"Pallet\", \"Viridian\", \"Pewter\", \"Cerulean\",\"Lavender\", ash = [\"Boulder\", \"Cascade\"], brock = \"Pewter\")\n",
    "\n",
    "\n"
   ]
  },
  {
   "cell_type": "markdown",
   "metadata": {},
   "source": [
    "##### Docstring"
   ]
  },
  {
   "cell_type": "code",
   "execution_count": 24,
   "metadata": {},
   "outputs": [
    {
     "name": "stdout",
     "output_type": "stream",
     "text": [
      "Sylvester\n",
      "Tweety\n"
     ]
    }
   ],
   "source": [
    "def print_names(list_1):\n",
    "    \"\"\"\n",
    "        print_names(list_1)\n",
    "        Function requires a list to be passed as a parameter\n",
    "        and will print the contents of the list. expecting\n",
    "        a list of names(strings) to be passed.\n",
    "    \"\"\"\n",
    "    for name in list_1:\n",
    "        print(name)\n",
    "\n",
    "print_names(['Sylvester', 'Tweety'])"
   ]
  },
  {
   "cell_type": "markdown",
   "metadata": {},
   "source": [
    "##### Using a User Function in a Loop"
   ]
  },
  {
   "cell_type": "code",
   "execution_count": 25,
   "metadata": {},
   "outputs": [
    {
     "name": "stdout",
     "output_type": "stream",
     "text": [
      "your answer is: i dont know\n",
      "your answer is: eat\n",
      "your answer is: yes\n"
     ]
    }
   ],
   "source": [
    "def print_input(answer):\n",
    "    print(f'your answer is: {answer}')\n",
    "\n",
    "while True:\n",
    "    ask = input(\"what do you want to do\")\n",
    "\n",
    "    print_input(ask)\n",
    "    response = input(\"ready to quit?\")\n",
    "    if response.lower() == 'yes':\n",
    "        break"
   ]
  },
  {
   "cell_type": "markdown",
   "metadata": {},
   "source": [
    "## Function Exercises <br>\n",
    "### Exercise 1\n",
    "<p>Write a function that loops through a list of first_names and a list of last_names, combines the two and return a list of full_names</p>"
   ]
  },
  {
   "cell_type": "code",
   "execution_count": 27,
   "metadata": {},
   "outputs": [
    {
     "name": "stdout",
     "output_type": "stream",
     "text": [
      "['JohnSmith', 'JohnSmith', 'JordanWilliams', 'MaxBell']\n"
     ]
    }
   ],
   "source": [
    "first_name = ['John', 'Evan', 'Jordan', 'Max']\n",
    "last_name = ['Smith', 'Smith', 'Williams', 'Bell']\n",
    "\n",
    "def full_name(first_name, last_name):\n",
    "    combined= []\n",
    "    for first in first_name:\n",
    "        for last in last_name:\n",
    "            if first_name.index(first) == last_name.index(last):\n",
    "                combined.append(first+last)\n",
    "    return combined\n",
    "\n",
    "print(full_name(first_name,last_name))\n",
    "\n",
    "# Output: ['John Smith', 'Evan Smith', 'Jordan Williams', 'Max Bell']\n"
   ]
  },
  {
   "cell_type": "code",
   "execution_count": 33,
   "metadata": {},
   "outputs": [
    {
     "data": {
      "text/plain": [
       "['John Smith', 'Evan Smith', 'Jordan Williams', 'Max Bell']"
      ]
     },
     "execution_count": 33,
     "metadata": {},
     "output_type": "execute_result"
    }
   ],
   "source": [
    "first_name = ['John', 'Evan', 'Jordan', 'Max']\n",
    "last_name = ['Smith', 'Smith', 'Williams', 'Bell']\n",
    "\n",
    "def full_name(first_name, last_name):\n",
    "    return [first_name[i] + \" \" + last_name[i] for i in range(len(first_name))]\n",
    "\n",
    "full_name(first_name,last_name)"
   ]
  },
  {
   "cell_type": "markdown",
   "metadata": {},
   "source": [
    "### Exercise 2\n",
    "Create a function that alters all values in the given list by subtracting 5 and then doubling them."
   ]
  },
  {
   "cell_type": "code",
   "execution_count": 55,
   "metadata": {},
   "outputs": [
    {
     "name": "stdout",
     "output_type": "stream",
     "text": [
      "[0, 10, 20, 30, -4]\n"
     ]
    }
   ],
   "source": [
    "input_list = [5,10,15,20,3]\n",
    "# output = [0,10,20,30,-4]\n",
    "\n",
    "def new_list(input_list):\n",
    "    for x in range(len(input_list)):\n",
    "        input_list[x] -= 5\n",
    "        input_list[x] += input_list[x]\n",
    "    return input_list\n",
    "print (new_list(input_list))\n",
    "\n",
    "# return[(x-5)*2 for x in input_list]\n",
    "#func(input_list)"
   ]
  },
  {
   "cell_type": "markdown",
   "metadata": {},
   "source": [
    "### Exercise 3\n",
    "Create a function that takes in a list of strings and filters out the strings that DO NOT contain vowels. "
   ]
  },
  {
   "cell_type": "code",
   "execution_count": 106,
   "metadata": {},
   "outputs": [
    {
     "data": {
      "text/plain": [
       "['Sheldon']"
      ]
     },
     "execution_count": 106,
     "metadata": {},
     "output_type": "execute_result"
    }
   ],
   "source": [
    "string_list = ['Sheldon','Pnny','Leonard','Hwrd','Rj','Amy','Strt']\n",
    "\n",
    "# output = ['Sheldon','Leonard','Amy']\n",
    "\n",
    "def vowels_only(a_list):\n",
    "    new_list = []\n",
    "    for i in a_list:\n",
    "        for char in 'aeiou':\n",
    "            if char in i.lower():\n",
    "                new_list.append(i)\n",
    "                break\n",
    "        return new_list\n",
    "vowels_only(string_list)"
   ]
  },
  {
   "cell_type": "markdown",
   "metadata": {},
   "source": [
    "### Exercise 4\n",
    "Create a function that accepts a list as a parameter and returns a dictionary containing the list items as it's keys, and the number of times they appear in the list as the values"
   ]
  },
  {
   "cell_type": "code",
   "execution_count": 111,
   "metadata": {},
   "outputs": [
    {
     "name": "stdout",
     "output_type": "stream",
     "text": [
      "{'Draco': 1, 'Ron': 4, 'Hermione': 2, 'Luna': 1, 'Dobby': 1, 'Harry': 3}\n"
     ]
    }
   ],
   "source": [
    "lst =  [\"Harry\", 'Hermione','Harry','Ron','Dobby','Draco','Luna','Harry','Hermione','Ron','Ron','Ron']\n",
    "new_dict = {}\n",
    "for i in set(lst):\n",
    "    if i not in new_dict:\n",
    "        new_dict[i] = lst.count(i)\n",
    "\n",
    "print(new_dict)\n",
    "\n",
    "# def counter(lst):\n",
    "#     return {i : lst.count(i) for i in set(lst)}\n",
    "\n",
    "# print(counter(lst))\n"
   ]
  },
  {
   "cell_type": "markdown",
   "metadata": {},
   "source": [
    "\n",
    "\n",
    "## Scope <br>\n",
    "<p>Scope refers to the ability to access variables, different types of scope include:<br>a) Global<br>b) Function (local)<br>c) Class (local)</p>"
   ]
  },
  {
   "cell_type": "code",
   "execution_count": 117,
   "metadata": {},
   "outputs": [
    {
     "name": "stdout",
     "output_type": "stream",
     "text": [
      "3\n",
      "6\n"
     ]
    }
   ],
   "source": [
    "# placement of variable declaration matters\n",
    "\n",
    "number = 3 # Gloal Variable\n",
    "\n",
    "def myFunc():\n",
    "    num_3 = 6 # Local Function Variable\n",
    "    return num_3\n",
    "\n",
    "print(number)\n",
    "return_num = myFunc()\n",
    "print(return_num)"
   ]
  },
  {
   "cell_type": "markdown",
   "metadata": {},
   "source": [
    "#####Decorators\n",
    "A decorator in Python is a function that takes another function as its argument, and returns yet another function . Decorators can be extremely useful as they allow the extension of an existing function, without any modification to the original function source code.\n"
   ]
  },
  {
   "cell_type": "code",
   "execution_count": 112,
   "metadata": {},
   "outputs": [
    {
     "data": {
      "text/plain": [
       "'HELLO FROM THE RANGERS'"
      ]
     },
     "execution_count": 112,
     "metadata": {},
     "output_type": "execute_result"
    }
   ],
   "source": [
    "def print_hello():\n",
    "    return \"hello from the Rangers\"\n",
    "\n",
    "# decorator function to upper case text\n",
    "def uppercase_decorator(function):\n",
    "    def wrapper():\n",
    "        func = function()\n",
    "        make_uppercase = func.upper()\n",
    "        return make_uppercase\n",
    "\n",
    "    return wrapper\n",
    "\n",
    "returned_func = uppercase_decorator(print_hello)\n",
    "returned_func()"
   ]
  },
  {
   "cell_type": "markdown",
   "metadata": {},
   "source": [
    "# Homework Exercises"
   ]
  },
  {
   "cell_type": "markdown",
   "metadata": {},
   "source": [
    "## Exercise 1 <br>\n",
    "<p>Given a list as a parameter,write a function that returns a list of numbers that are less than ten</b></i></p><br>\n",
    "<p> For example: Say your input parameter to the function is [1,11,14,5,8,9]...Your output should [1,5,8,9]</p>"
   ]
  },
  {
   "cell_type": "code",
   "execution_count": 171,
   "metadata": {},
   "outputs": [
    {
     "name": "stdout",
     "output_type": "stream",
     "text": [
      "[1, 5, 8, 9]\n"
     ]
    }
   ],
   "source": [
    "# Use the following list - [1,11,14,5,8,9]\n",
    "\n",
    "l_1 = [1,11,14,5,8,9]\n",
    "def lessthan(l_1):\n",
    "    l_2 = []\n",
    "    for item in l_1:\n",
    "        if item < 10:\n",
    "            l_2.append(item)\n",
    "    return(l_2)\n",
    "\n",
    "print(lessthan(l_1))\n"
   ]
  },
  {
   "cell_type": "markdown",
   "metadata": {},
   "source": [
    "## Exercise 2 <br>\n",
    "<p>Write a function that takes in two lists and returns the two lists merged together and sorted<br>\n",
    "<b><i>Hint: You can use the .sort() method</i></b></p>"
   ]
  },
  {
   "cell_type": "code",
   "execution_count": 148,
   "metadata": {},
   "outputs": [
    {
     "name": "stdout",
     "output_type": "stream",
     "text": [
      "[1, 2, 3, 3, 4, 4, 5, 5, 6, 6, 7, 8, 10]\n"
     ]
    }
   ],
   "source": [
    "l_1 = [1,2,3,4,5,6]\n",
    "l_2 = [3,4,5,6,7,8,10]\n",
    "def Merge(l_1, l_2):\n",
    "    l_3 = l_1 + l_2\n",
    "    l_3.sort()\n",
    "    return l_3\n",
    "\n",
    "print(Merge(l_1, l_2))\n",
    "\n",
    "\n"
   ]
  },
  {
   "cell_type": "code",
   "execution_count": 7,
   "metadata": {},
   "outputs": [
    {
     "name": "stdout",
     "output_type": "stream",
     "text": [
      "buzz\n"
     ]
    }
   ],
   "source": [
    "def fizzbuzz(num):\n",
    "        if num % 2 == 0:\n",
    "            return \"fizz\"\n",
    "        else:\n",
    "            return 'buzz'\n",
    "print(fizzbuzz(1))"
   ]
  },
  {
   "cell_type": "code",
   "execution_count": 173,
   "metadata": {},
   "outputs": [
    {
     "name": "stdout",
     "output_type": "stream",
     "text": [
      "7\n"
     ]
    }
   ],
   "source": [
    "#Q1: Create a function that returns the sum of the two lowest positive numbers given an array of minimum 4 positive integers. No floats or non-positive integers will be passed.\n",
    "\n",
    "\n",
    "example = [19, 5, 42, 2, 77]\n",
    "#output = 7\n",
    "def sum_two_smallest_numbers(example):\n",
    "    return sum(sorted(example)[:2])\n",
    "\n",
    "print(sum_two_smallest_numbers(example))\n"
   ]
  },
  {
   "cell_type": "code",
   "execution_count": 192,
   "metadata": {},
   "outputs": [
    {
     "name": "stdout",
     "output_type": "stream",
     "text": [
      "-65\n",
      "positive: 10\n"
     ]
    }
   ],
   "source": [
    "# Q2: Given an array of integers.Return an array, where the first element is\n",
    "#  the count of positives numbers and the second element is sum of negative \n",
    "# numbers. 0 is neither positive nor negative.\n",
    "\n",
    "# If the input array is empty or null, return an empty array.\n",
    "\n",
    "\n",
    "example_input = [1, 2, 3, 4, 5, 6, 7, 8, 9, 10, -11, -12, -13, -14, -15]\n",
    "# # output  = [10,-65]\n",
    "poscount = 0\n",
    "negnums = []\n",
    "\n",
    "for num in example_input:\n",
    "    if num >= 0:\n",
    "        poscount += 1\n",
    "for num in example_input:\n",
    "    if num < 0:\n",
    "        negnums.append(num)\n",
    "\n",
    "\n",
    "print(sum(negnums))\n",
    "avg = sum(negnums)/len(negnums)\n",
    "\n",
    "print(\"positive:\", poscount)\n",
    "# print(\"negative:\", negnums)\n",
    "\n"
   ]
  },
  {
   "cell_type": "code",
   "execution_count": null,
   "metadata": {},
   "outputs": [],
   "source": []
  }
 ],
 "metadata": {
  "kernelspec": {
   "display_name": "Python 3",
   "language": "python",
   "name": "python3"
  },
  "language_info": {
   "codemirror_mode": {
    "name": "ipython",
    "version": 3
   },
   "file_extension": ".py",
   "mimetype": "text/x-python",
   "name": "python",
   "nbconvert_exporter": "python",
   "pygments_lexer": "ipython3",
   "version": "3.9.7"
  }
 },
 "nbformat": 4,
 "nbformat_minor": 2
}
